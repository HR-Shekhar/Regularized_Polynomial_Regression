{
 "cells": [
  {
   "cell_type": "markdown",
   "metadata": {},
   "source": [
    "### Import libraries"
   ]
  },
  {
   "cell_type": "code",
   "execution_count": 1,
   "metadata": {},
   "outputs": [],
   "source": [
    "import math\n",
    "import copy\n",
    "import numpy as np\n",
    "import pandas as pd\n",
    "import seaborn as sns\n",
    "import matplotlib.pyplot as plt\n",
    "from sklearn.preprocessing import StandardScaler,PolynomialFeatures\n",
    "from sklearn.metrics import r2_score\n",
    "from sklearn.model_selection import train_test_split"
   ]
  },
  {
   "cell_type": "markdown",
   "metadata": {},
   "source": [
    "### Load Datasets"
   ]
  },
  {
   "cell_type": "code",
   "execution_count": 2,
   "metadata": {},
   "outputs": [
    {
     "data": {
      "text/html": [
       "<div>\n",
       "<style scoped>\n",
       "    .dataframe tbody tr th:only-of-type {\n",
       "        vertical-align: middle;\n",
       "    }\n",
       "\n",
       "    .dataframe tbody tr th {\n",
       "        vertical-align: top;\n",
       "    }\n",
       "\n",
       "    .dataframe thead th {\n",
       "        text-align: right;\n",
       "    }\n",
       "</style>\n",
       "<table border=\"1\" class=\"dataframe\">\n",
       "  <thead>\n",
       "    <tr style=\"text-align: right;\">\n",
       "      <th></th>\n",
       "      <th>Temperature (°C)</th>\n",
       "      <th>Pressure (kPa)</th>\n",
       "      <th>Temperature x Pressure</th>\n",
       "      <th>Material Fusion Metric</th>\n",
       "      <th>Material Transformation Metric</th>\n",
       "      <th>Quality Rating</th>\n",
       "    </tr>\n",
       "  </thead>\n",
       "  <tbody>\n",
       "    <tr>\n",
       "      <th>0</th>\n",
       "      <td>209.762701</td>\n",
       "      <td>8.050855</td>\n",
       "      <td>1688.769167</td>\n",
       "      <td>44522.217074</td>\n",
       "      <td>9.229576e+06</td>\n",
       "      <td>99.999971</td>\n",
       "    </tr>\n",
       "    <tr>\n",
       "      <th>1</th>\n",
       "      <td>243.037873</td>\n",
       "      <td>15.812068</td>\n",
       "      <td>3842.931469</td>\n",
       "      <td>63020.764997</td>\n",
       "      <td>1.435537e+07</td>\n",
       "      <td>99.985703</td>\n",
       "    </tr>\n",
       "    <tr>\n",
       "      <th>2</th>\n",
       "      <td>220.552675</td>\n",
       "      <td>7.843130</td>\n",
       "      <td>1729.823314</td>\n",
       "      <td>49125.950249</td>\n",
       "      <td>1.072839e+07</td>\n",
       "      <td>99.999758</td>\n",
       "    </tr>\n",
       "    <tr>\n",
       "      <th>3</th>\n",
       "      <td>208.976637</td>\n",
       "      <td>23.786089</td>\n",
       "      <td>4970.736918</td>\n",
       "      <td>57128.881547</td>\n",
       "      <td>9.125702e+06</td>\n",
       "      <td>99.999975</td>\n",
       "    </tr>\n",
       "    <tr>\n",
       "      <th>4</th>\n",
       "      <td>184.730960</td>\n",
       "      <td>15.797812</td>\n",
       "      <td>2918.345014</td>\n",
       "      <td>38068.201283</td>\n",
       "      <td>6.303792e+06</td>\n",
       "      <td>100.000000</td>\n",
       "    </tr>\n",
       "    <tr>\n",
       "      <th>5</th>\n",
       "      <td>229.178823</td>\n",
       "      <td>8.498306</td>\n",
       "      <td>1947.631786</td>\n",
       "      <td>53136.690654</td>\n",
       "      <td>1.203707e+07</td>\n",
       "      <td>99.998786</td>\n",
       "    </tr>\n",
       "    <tr>\n",
       "      <th>6</th>\n",
       "      <td>187.517442</td>\n",
       "      <td>19.412851</td>\n",
       "      <td>3640.248155</td>\n",
       "      <td>42478.694500</td>\n",
       "      <td>6.593260e+06</td>\n",
       "      <td>100.000000</td>\n",
       "    </tr>\n",
       "    <tr>\n",
       "      <th>7</th>\n",
       "      <td>278.354600</td>\n",
       "      <td>7.070944</td>\n",
       "      <td>1968.229758</td>\n",
       "      <td>77834.818230</td>\n",
       "      <td>2.156722e+07</td>\n",
       "      <td>95.732723</td>\n",
       "    </tr>\n",
       "    <tr>\n",
       "      <th>8</th>\n",
       "      <td>292.732552</td>\n",
       "      <td>20.432896</td>\n",
       "      <td>5981.373734</td>\n",
       "      <td>94223.147069</td>\n",
       "      <td>2.508452e+07</td>\n",
       "      <td>64.623599</td>\n",
       "    </tr>\n",
       "    <tr>\n",
       "      <th>9</th>\n",
       "      <td>176.688304</td>\n",
       "      <td>14.145782</td>\n",
       "      <td>2499.394266</td>\n",
       "      <td>34049.372335</td>\n",
       "      <td>5.515789e+06</td>\n",
       "      <td>100.000000</td>\n",
       "    </tr>\n",
       "  </tbody>\n",
       "</table>\n",
       "</div>"
      ],
      "text/plain": [
       "   Temperature (°C)  Pressure (kPa)  Temperature x Pressure  \\\n",
       "0        209.762701        8.050855             1688.769167   \n",
       "1        243.037873       15.812068             3842.931469   \n",
       "2        220.552675        7.843130             1729.823314   \n",
       "3        208.976637       23.786089             4970.736918   \n",
       "4        184.730960       15.797812             2918.345014   \n",
       "5        229.178823        8.498306             1947.631786   \n",
       "6        187.517442       19.412851             3640.248155   \n",
       "7        278.354600        7.070944             1968.229758   \n",
       "8        292.732552       20.432896             5981.373734   \n",
       "9        176.688304       14.145782             2499.394266   \n",
       "\n",
       "   Material Fusion Metric  Material Transformation Metric  Quality Rating  \n",
       "0            44522.217074                    9.229576e+06       99.999971  \n",
       "1            63020.764997                    1.435537e+07       99.985703  \n",
       "2            49125.950249                    1.072839e+07       99.999758  \n",
       "3            57128.881547                    9.125702e+06       99.999975  \n",
       "4            38068.201283                    6.303792e+06      100.000000  \n",
       "5            53136.690654                    1.203707e+07       99.998786  \n",
       "6            42478.694500                    6.593260e+06      100.000000  \n",
       "7            77834.818230                    2.156722e+07       95.732723  \n",
       "8            94223.147069                    2.508452e+07       64.623599  \n",
       "9            34049.372335                    5.515789e+06      100.000000  "
      ]
     },
     "execution_count": 2,
     "metadata": {},
     "output_type": "execute_result"
    }
   ],
   "source": [
    "df = pd.read_csv(\"manufacturing.csv\")\n",
    "df.head(10)"
   ]
  },
  {
   "cell_type": "markdown",
   "metadata": {},
   "source": [
    "### Plot Correlation heatmap"
   ]
  },
  {
   "cell_type": "code",
   "execution_count": 3,
   "metadata": {},
   "outputs": [
    {
     "data": {
      "image/png": "[encoded data removed]",
      "text/plain": [
       "<Figure size 1000x800 with 2 Axes>"
      ]
     },
     "metadata": {},
     "output_type": "display_data"
    }
   ],
   "source": [
    "plt.figure(figsize=(10,8))\n",
    "sns.heatmap(df.corr(), annot=True, cmap='coolwarm')\n",
    "plt.title('Correlation Heatmap')\n",
    "plt.show()"
   ]
  },
  {
   "cell_type": "markdown",
   "metadata": {},
   "source": [
    "Drop columns with less direct or inverse correlation and one of the columns with very high correlation with each other to avoid overfitting."
   ]
  },
  {
   "cell_type": "code",
   "execution_count": 4,
   "metadata": {},
   "outputs": [
    {
     "data": {
      "text/html": [
       "<div>\n",
       "<style scoped>\n",
       "    .dataframe tbody tr th:only-of-type {\n",
       "        vertical-align: middle;\n",
       "    }\n",
       "\n",
       "    .dataframe tbody tr th {\n",
       "        vertical-align: top;\n",
       "    }\n",
       "\n",
       "    .dataframe thead th {\n",
       "        text-align: right;\n",
       "    }\n",
       "</style>\n",
       "<table border=\"1\" class=\"dataframe\">\n",
       "  <thead>\n",
       "    <tr style=\"text-align: right;\">\n",
       "      <th></th>\n",
       "      <th>Temperature x Pressure</th>\n",
       "      <th>Material Transformation Metric</th>\n",
       "      <th>Quality Rating</th>\n",
       "    </tr>\n",
       "  </thead>\n",
       "  <tbody>\n",
       "    <tr>\n",
       "      <th>0</th>\n",
       "      <td>1688.769167</td>\n",
       "      <td>9.229576e+06</td>\n",
       "      <td>99.999971</td>\n",
       "    </tr>\n",
       "    <tr>\n",
       "      <th>1</th>\n",
       "      <td>3842.931469</td>\n",
       "      <td>1.435537e+07</td>\n",
       "      <td>99.985703</td>\n",
       "    </tr>\n",
       "    <tr>\n",
       "      <th>2</th>\n",
       "      <td>1729.823314</td>\n",
       "      <td>1.072839e+07</td>\n",
       "      <td>99.999758</td>\n",
       "    </tr>\n",
       "    <tr>\n",
       "      <th>3</th>\n",
       "      <td>4970.736918</td>\n",
       "      <td>9.125702e+06</td>\n",
       "      <td>99.999975</td>\n",
       "    </tr>\n",
       "    <tr>\n",
       "      <th>4</th>\n",
       "      <td>2918.345014</td>\n",
       "      <td>6.303792e+06</td>\n",
       "      <td>100.000000</td>\n",
       "    </tr>\n",
       "    <tr>\n",
       "      <th>...</th>\n",
       "      <td>...</td>\n",
       "      <td>...</td>\n",
       "      <td>...</td>\n",
       "    </tr>\n",
       "    <tr>\n",
       "      <th>3952</th>\n",
       "      <td>3417.596965</td>\n",
       "      <td>3.855501e+06</td>\n",
       "      <td>100.000000</td>\n",
       "    </tr>\n",
       "    <tr>\n",
       "      <th>3953</th>\n",
       "      <td>1640.516924</td>\n",
       "      <td>7.744742e+06</td>\n",
       "      <td>99.999997</td>\n",
       "    </tr>\n",
       "    <tr>\n",
       "      <th>3954</th>\n",
       "      <td>3956.304672</td>\n",
       "      <td>1.405957e+07</td>\n",
       "      <td>99.989318</td>\n",
       "    </tr>\n",
       "    <tr>\n",
       "      <th>3955</th>\n",
       "      <td>4977.234763</td>\n",
       "      <td>9.134036e+06</td>\n",
       "      <td>99.999975</td>\n",
       "    </tr>\n",
       "    <tr>\n",
       "      <th>3956</th>\n",
       "      <td>3974.897121</td>\n",
       "      <td>4.358913e+06</td>\n",
       "      <td>100.000000</td>\n",
       "    </tr>\n",
       "  </tbody>\n",
       "</table>\n",
       "<p>3957 rows × 3 columns</p>\n",
       "</div>"
      ],
      "text/plain": [
       "      Temperature x Pressure  Material Transformation Metric  Quality Rating\n",
       "0                1688.769167                    9.229576e+06       99.999971\n",
       "1                3842.931469                    1.435537e+07       99.985703\n",
       "2                1729.823314                    1.072839e+07       99.999758\n",
       "3                4970.736918                    9.125702e+06       99.999975\n",
       "4                2918.345014                    6.303792e+06      100.000000\n",
       "...                      ...                             ...             ...\n",
       "3952             3417.596965                    3.855501e+06      100.000000\n",
       "3953             1640.516924                    7.744742e+06       99.999997\n",
       "3954             3956.304672                    1.405957e+07       99.989318\n",
       "3955             4977.234763                    9.134036e+06       99.999975\n",
       "3956             3974.897121                    4.358913e+06      100.000000\n",
       "\n",
       "[3957 rows x 3 columns]"
      ]
     },
     "execution_count": 4,
     "metadata": {},
     "output_type": "execute_result"
    }
   ],
   "source": [
    "df = df.drop(columns=[\"Pressure (kPa)\", \"Temperature (°C)\", \"Material Fusion Metric\"])\n",
    "df"
   ]
  },
  {
   "cell_type": "markdown",
   "metadata": {},
   "source": [
    "### Prepare for training"
   ]
  },
  {
   "cell_type": "code",
   "execution_count": 5,
   "metadata": {},
   "outputs": [
    {
     "name": "stdout",
     "output_type": "stream",
     "text": [
      "Features Shape:  (3957, 2)\n",
      "Labels: Shape (3957,)\n"
     ]
    }
   ],
   "source": [
    "x = df.drop(columns=\"Quality Rating\").to_numpy()\n",
    "y = df[\"Quality Rating\"].to_numpy()\n",
    "print(\"Features Shape: \", x.shape)\n",
    "print(\"Labels: Shape\", y.shape)"
   ]
  },
  {
   "cell_type": "markdown",
   "metadata": {},
   "source": [
    "### Scale Dataset"
   ]
  },
  {
   "cell_type": "code",
   "execution_count": 6,
   "metadata": {},
   "outputs": [
    {
     "data": {
      "text/plain": [
       "(3957, 2)"
      ]
     },
     "execution_count": 6,
     "metadata": {},
     "output_type": "execute_result"
    }
   ],
   "source": [
    "# Z-score normalization for feature scaling\n",
    "scaler = StandardScaler()\n",
    "\n",
    "x_scaled = scaler.fit_transform(x)\n",
    "x_scaled.shape"
   ]
  },
  {
   "cell_type": "markdown",
   "metadata": {},
   "source": [
    "### Use `PolynomialFeatures()`\n",
    "\n",
    "It makes the regression a polynomial regression"
   ]
  },
  {
   "cell_type": "code",
   "execution_count": 7,
   "metadata": {},
   "outputs": [],
   "source": [
    "#Polynomial Transformation\n",
    "poly = PolynomialFeatures(degree=3)\n",
    "x_poly = poly.fit_transform(x_scaled)"
   ]
  },
  {
   "cell_type": "markdown",
   "metadata": {},
   "source": [
    "### Split dataset into train and test"
   ]
  },
  {
   "cell_type": "code",
   "execution_count": 8,
   "metadata": {},
   "outputs": [
    {
     "name": "stdout",
     "output_type": "stream",
     "text": [
      "Training Data: (3165, 10) (3165,)\n",
      "Testing Data: (792, 10) (792,)\n"
     ]
    }
   ],
   "source": [
    "x_train, x_test, y_train, y_test = train_test_split(x_poly, y, test_size=0.2, random_state=42)\n",
    "\n",
    "print(\"Training Data:\", x_train.shape, y_train.shape)\n",
    "print(\"Testing Data:\", x_test.shape, y_test.shape)"
   ]
  },
  {
   "cell_type": "markdown",
   "metadata": {},
   "source": [
    "### Write the function to compute Cost"
   ]
  },
  {
   "cell_type": "code",
   "execution_count": 9,
   "metadata": {},
   "outputs": [],
   "source": [
    "def cost_function(X, y, w, b, lambda_):\n",
    "\tm,n = X.shape\n",
    "\n",
    "\tcost_sum = 0.\n",
    "\tfor i in range(m):\n",
    "\t\tf_wb = np.dot(X[i], w) + b\n",
    "\t\tcost = (f_wb - y[i])**2\n",
    "\t\tcost_sum += cost\n",
    "\tcost_sum = cost_sum/(2*m)\n",
    "\t\n",
    "\treg_cost = 0.\n",
    "\tfor j in range(n):\n",
    "\t\tpenalty = w[j]**2\n",
    "\t\treg_cost += penalty\n",
    "\treg_cost = (lambda_/(2*m)) * reg_cost\n",
    "\n",
    "\ttotal_cost = cost_sum + reg_cost\n",
    "\treturn total_cost"
   ]
  },
  {
   "cell_type": "markdown",
   "metadata": {},
   "source": [
    "### Test Cost function"
   ]
  },
  {
   "cell_type": "code",
   "execution_count": 10,
   "metadata": {},
   "outputs": [
    {
     "name": "stdout",
     "output_type": "stream",
     "text": [
      "Cost: 4420.815447285165\n"
     ]
    }
   ],
   "source": [
    "w_tmp = np.random.rand(x_train.shape[1])\n",
    "b_tmp = np.random.rand()  \n",
    "lambda_tmp = 1\n",
    "\n",
    "cost = cost_function(x_train, y_train, w_tmp, b_tmp, lambda_tmp)\n",
    "print(\"Cost:\", cost)"
   ]
  },
  {
   "cell_type": "markdown",
   "metadata": {},
   "source": [
    "### Compute Gradient Term"
   ]
  },
  {
   "cell_type": "code",
   "execution_count": 11,
   "metadata": {},
   "outputs": [],
   "source": [
    "def gradient_function(X, y ,w, b, lambda_):\n",
    "\tm = X.shape[0]\n",
    "\tn = len(w)\n",
    "\tdj_dw = np.zeros((n,))\n",
    "\tdj_db = 0.\n",
    "\tfor i in range(m):\n",
    "\t\terr = (np.dot(w, X[i]) + b) - y[i]\n",
    "\t\tfor j in range(n):\n",
    "\t\t\tdj_dw[j] += err * X[i, j] \n",
    "\t\tdj_db += err\n",
    "\tdj_dw = dj_dw / m\n",
    "\tdj_db = dj_db / m\n",
    "\n",
    "\tfor j in range(n):\n",
    "\t\tdj_dw[j] += lambda_/m * w[j]\n",
    "\n",
    "\treturn dj_dw, dj_db"
   ]
  },
  {
   "cell_type": "code",
   "execution_count": 12,
   "metadata": {},
   "outputs": [],
   "source": [
    "# test"
   ]
  },
  {
   "cell_type": "markdown",
   "metadata": {},
   "source": [
    "### Compute Gradient Descent"
   ]
  },
  {
   "cell_type": "code",
   "execution_count": 13,
   "metadata": {},
   "outputs": [],
   "source": [
    "def gradient_descent(X, y, w_in, b_in, alpha, cost_function, gradient_function, lambda_,  num_iters):\n",
    "    \n",
    "\tJ_history = []\n",
    "\tw_history = []\n",
    "\n",
    "\tw = copy.deepcopy(w_in)\n",
    "\tb = b_in\n",
    "\n",
    "\tfor i in range(num_iters):\n",
    "\t\tdj_dw, dj_db = gradient_function(X, y, w, b, lambda_)\n",
    "\t\tw = w - (alpha * dj_dw)\n",
    "\t\tb = b - (alpha * dj_db)\n",
    "\n",
    "\t\t# Save cost J at each iteration\n",
    "\t\tif i < 100000:  # prevent resource exhaustion\n",
    "\t\t\tcost = cost_function(X, y, w, b, lambda_)\n",
    "\t\t\tJ_history.append(cost)\n",
    "\n",
    "\t\t# Print cost every at intervals 10 times or as many iterations if < 10\n",
    "\t\tif i % math.ceil(num_iters / 10) == 0:\n",
    "\t\t\tw_history.append(w)\n",
    "\t\t\tprint(f\"Iteration {i:4}: Cost {float(J_history[-1]):8.2f}\")\n",
    "\treturn w, b, J_history, w_history  # return w and J, w history for graphing\n"
   ]
  },
  {
   "cell_type": "markdown",
   "metadata": {},
   "source": [
    "### Increase Recursions limit to increase iterations"
   ]
  },
  {
   "cell_type": "code",
   "execution_count": 14,
   "metadata": {},
   "outputs": [
    {
     "name": "stdout",
     "output_type": "stream",
     "text": [
      "10000\n"
     ]
    }
   ],
   "source": [
    "import sys\n",
    "sys.setrecursionlimit(10000)\n",
    "print(sys.getrecursionlimit())  # Check recursion limit"
   ]
  },
  {
   "cell_type": "markdown",
   "metadata": {},
   "source": [
    "### Train your model"
   ]
  },
  {
   "cell_type": "code",
   "execution_count": 15,
   "metadata": {},
   "outputs": [
    {
     "name": "stdout",
     "output_type": "stream",
     "text": [
      "Iteration    0: Cost  3471.75\n",
      "Iteration  500: Cost    11.11\n",
      "Iteration 1000: Cost    10.49\n",
      "Iteration 1500: Cost    10.44\n",
      "Iteration 2000: Cost    10.43\n",
      "Iteration 2500: Cost    10.43\n",
      "Iteration 3000: Cost    10.43\n",
      "Iteration 3500: Cost    10.42\n",
      "Iteration 4000: Cost    10.42\n",
      "Iteration 4500: Cost    10.42\n"
     ]
    }
   ],
   "source": [
    "a = np.shape(x_train)[1]\n",
    "initial_w = np.random.rand(a)\n",
    "initial_b = 0.\n",
    "\n",
    "w,b,_,_= gradient_descent(x_train,y_train,initial_w,initial_b,\n",
    "                          0.037,cost_function,gradient_function,0.9, num_iters= 5000)"
   ]
  },
  {
   "cell_type": "markdown",
   "metadata": {},
   "source": [
    "### Make predictions on the test set "
   ]
  },
  {
   "cell_type": "code",
   "execution_count": 16,
   "metadata": {},
   "outputs": [],
   "source": [
    "m = x_test.shape[0]\n",
    "\n",
    "y_pred = np.zeros(m)\n",
    "for i in range(m):\n",
    "    y_pred[i] = np.dot(w, x_test[i]) + b"
   ]
  },
  {
   "cell_type": "markdown",
   "metadata": {},
   "source": [
    "Calculate Model Accuracy Score(0.81 to 0.94 is good(will generalize well to unseen data))"
   ]
  },
  {
   "cell_type": "code",
   "execution_count": 17,
   "metadata": {},
   "outputs": [
    {
     "data": {
      "text/plain": [
       "0.8719271040394366"
      ]
     },
     "execution_count": 17,
     "metadata": {},
     "output_type": "execute_result"
    }
   ],
   "source": [
    "r2 = r2_score(y_test, y_pred)\n",
    "r2"
   ]
  },
  {
   "cell_type": "code",
   "execution_count": 18,
   "metadata": {},
   "outputs": [
    {
     "data": {
      "text/plain": [
       "['PolyFromScratch.pkl']"
      ]
     },
     "execution_count": 18,
     "metadata": {},
     "output_type": "execute_result"
    }
   ],
   "source": [
    "import joblib\n",
    "\n",
    "model_params = {\n",
    "    \"w\": w,\n",
    "    \"b\": b,\n",
    "    \"scaler\": scaler\n",
    "}\n",
    "joblib.dump(model_params, \"PolyFromScratch.pkl\")"
   ]
  }
 ],
 "metadata": {
  "kernelspec": {
   "display_name": "ml_env",
   "language": "python",
   "name": "python3"
  },
  "language_info": {
   "codemirror_mode": {
    "name": "ipython",
    "version": 3
   },
   "file_extension": ".py",
   "mimetype": "text/x-python",
   "name": "python",
   "nbconvert_exporter": "python",
   "pygments_lexer": "ipython3",
   "version": "3.12.9"
  }
 },
 "nbformat": 4,
 "nbformat_minor": 2
}
